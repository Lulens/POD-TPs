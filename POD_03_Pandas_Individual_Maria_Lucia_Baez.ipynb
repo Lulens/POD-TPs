{
  "nbformat": 4,
  "nbformat_minor": 0,
  "metadata": {
    "colab": {
      "provenance": [],
      "collapsed_sections": [
        "8ec8DQdbWQfC",
        "x6s9aanXAp4G",
        "uf4NRwyMCKbg"
      ],
      "include_colab_link": true
    },
    "kernelspec": {
      "name": "python3",
      "display_name": "Python 3"
    },
    "language_info": {
      "name": "python"
    }
  },
  "cells": [
    {
      "cell_type": "markdown",
      "metadata": {
        "id": "view-in-github",
        "colab_type": "text"
      },
      "source": [
        "<a href=\"https://colab.research.google.com/github/Lulens/tp-pod/blob/master/POD_03_Pandas_Individual_Maria_Lucia_Baez.ipynb\" target=\"_parent\"><img src=\"https://colab.research.google.com/assets/colab-badge.svg\" alt=\"Open In Colab\"/></a>"
      ]
    },
    {
      "cell_type": "markdown",
      "source": [
        "*   **Año:** 2024\n",
        "*   **Alumno/a:** Maria Lucia Baez\n",
        "*   **Legajo:** 42306816"
      ],
      "metadata": {
        "id": "UwxQU5JCF33j"
      }
    },
    {
      "cell_type": "markdown",
      "source": [
        "# Pandas\n",
        "A continuación, cada celda va a pedir algo distinto. Por favor, realizarlo con la menor cantidad de lineas posibles y con NumPy.\n"
      ],
      "metadata": {
        "id": "8ec8DQdbWQfC"
      }
    },
    {
      "cell_type": "markdown",
      "source": [
        "Importar `pandas` con el alias `pd` e imprimir la versión instalada."
      ],
      "metadata": {
        "id": "uF01w4AQcrtV"
      }
    },
    {
      "cell_type": "code",
      "source": [
        "import pandas as pd\n",
        "print(pd.__version__)"
      ],
      "metadata": {
        "id": "4WPUcwU_c5n2",
        "colab": {
          "base_uri": "https://localhost:8080/"
        },
        "outputId": "76e95e2d-bb77-4491-b229-d5978161a6f4"
      },
      "execution_count": 29,
      "outputs": [
        {
          "output_type": "stream",
          "name": "stdout",
          "text": [
            "2.2.2\n"
          ]
        }
      ]
    },
    {
      "cell_type": "markdown",
      "source": [
        "Crear la siguiente tabla como un dataframe de Pandas donde cada linea represente un diccionario.\n",
        "\n",
        "| _Index_ | **nombre**       | **edad** | **dni**  |\n",
        "|---------|------------------|----------|----------|\n",
        "| 9       | Brown, James     | 43       | 30123444 |\n",
        "| 3       | Hamkel, Louis V. | 29       | 44555666 |\n",
        "| 7       | Baptista, Carlos | 28       | 43120111 |"
      ],
      "metadata": {
        "id": "eC8fpbQ04GzX"
      }
    },
    {
      "cell_type": "code",
      "source": [
        "data = [\n",
        "    { 'Index': 9, 'nombre': 'Brown, James', 'edad': 43, 'dni': 30123444 },\n",
        "    { 'Index': 3, 'nombre': 'Hamkel, Louis V.', 'edad': 29, 'dni': 44555666 },\n",
        "    { 'Index': 7, 'nombre': 'Baptista, Carlos', 'edad': 28, 'dni': 43120111 }\n",
        "]\n",
        "\n",
        "df = pd.DataFrame(data)\n",
        "df.set_index('Index', inplace=True)\n",
        "\n",
        "print(df)"
      ],
      "metadata": {
        "id": "NJeWJygVLbAJ",
        "colab": {
          "base_uri": "https://localhost:8080/"
        },
        "outputId": "91ed306a-0aff-4065-c33a-abc7810270d9"
      },
      "execution_count": 30,
      "outputs": [
        {
          "output_type": "stream",
          "name": "stdout",
          "text": [
            "                 nombre  edad       dni\n",
            "Index                                  \n",
            "9          Brown, James    43  30123444\n",
            "3      Hamkel, Louis V.    29  44555666\n",
            "7      Baptista, Carlos    28  43120111\n"
          ]
        }
      ]
    },
    {
      "cell_type": "markdown",
      "source": [
        "Crear la siguiente tabla como un dataframe de Pandas donde todas las lineas esten dentro de un solo diccionario.\n",
        "\n",
        "| _Index_ | **nombre**       | **edad** | **dni**  |\n",
        "|---------|------------------|----------|----------|\n",
        "| 9       | Brown, James     | 43       | 30123444 |\n",
        "| 3       | Hamkel, Louis V. | 29       | 44555666 |\n",
        "| 7       | Baptista, Carlos | 28       | 43120111 |"
      ],
      "metadata": {
        "id": "zas-XX4r4SeP"
      }
    },
    {
      "cell_type": "code",
      "source": [
        "data = {\n",
        "    'Index': [9, 3, 7],\n",
        "    'nombre': ['Brown, James', 'Hamkel, Louis V.', 'Baptista, Carlos'],\n",
        "    'edad': [43, 29, 28],\n",
        "    'dni': [30123444, 44555666, 43120111]\n",
        "}\n",
        "\n",
        "df = pd.DataFrame(data)\n",
        "df.set_index('Index', inplace=True)\n",
        "print(df)"
      ],
      "metadata": {
        "id": "_DhtCWhr4ST9",
        "colab": {
          "base_uri": "https://localhost:8080/"
        },
        "outputId": "a055518a-2ff4-44d6-a8dd-b792498b3d9d"
      },
      "execution_count": 31,
      "outputs": [
        {
          "output_type": "stream",
          "name": "stdout",
          "text": [
            "                 nombre  edad       dni\n",
            "Index                                  \n",
            "9          Brown, James    43  30123444\n",
            "3      Hamkel, Louis V.    29  44555666\n",
            "7      Baptista, Carlos    28  43120111\n"
          ]
        }
      ]
    },
    {
      "cell_type": "markdown",
      "source": [
        "Crear la siguiente tabla como un dataframe de Pandas donde se usen unicamente listas.\n",
        "\n",
        "| _Index_ | **nombre**       | **edad** | **dni**  |\n",
        "|---------|------------------|----------|----------|\n",
        "| 9       | Brown, James     | 43       | 30123444 |\n",
        "| 3       | Hamkel, Louis V. | 29       | 44555666 |\n",
        "| 7       | Baptista, Carlos | 28       | 43120111 |"
      ],
      "metadata": {
        "id": "ejbn5RSH4S_W"
      }
    },
    {
      "cell_type": "code",
      "source": [
        "data = [\n",
        "    [9, 'Brown, James', 43, 30123444],\n",
        "    [3, 'Hamkel, Louis V.', 29, 44555666],\n",
        "    [7, 'Baptista, Carlos', 28, 43120111]\n",
        "]\n",
        "\n",
        "columns = ['Index', 'nombre', 'edad', 'dni']\n",
        "\n",
        "df = pd.DataFrame(data, columns=columns)\n",
        "df.set_index('Index', inplace=True)\n",
        "print(df)"
      ],
      "metadata": {
        "id": "OMPq8C1C4Su3",
        "colab": {
          "base_uri": "https://localhost:8080/"
        },
        "outputId": "455aaaa0-93f0-43f9-8fbf-23b08e1c00a2"
      },
      "execution_count": 32,
      "outputs": [
        {
          "output_type": "stream",
          "name": "stdout",
          "text": [
            "                 nombre  edad       dni\n",
            "Index                                  \n",
            "9          Brown, James    43  30123444\n",
            "3      Hamkel, Louis V.    29  44555666\n",
            "7      Baptista, Carlos    28  43120111\n"
          ]
        }
      ]
    },
    {
      "cell_type": "markdown",
      "source": [
        "Crear la siguiente tabla como un dataframe de Pandas donde se usen unicamente `Series`.\n",
        "\n",
        "| _Index_ | **nombre**       | **edad** | **dni**  |\n",
        "|---------|------------------|----------|----------|\n",
        "| 9       | Brown, James     | 43       | 30123444 |\n",
        "| 3       | Hamkel, Louis V. | 29       | 44555666 |\n",
        "| 7       | Baptista, Carlos | 28       | 43120111 |"
      ],
      "metadata": {
        "id": "dVCeyowLEnJ1"
      }
    },
    {
      "cell_type": "code",
      "source": [
        "index = pd.Series([9, 3, 7])\n",
        "nombre = pd.Series(['Brown, James', 'Hamkel, Louis V.', 'Baptista, Carlos'])\n",
        "edad = pd.Series([43, 29, 28])\n",
        "dni = pd.Series([30123444, 44555666, 43120111])\n",
        "\n",
        "df = pd.DataFrame({\n",
        "    'Index': index,\n",
        "    'nombre': nombre,\n",
        "    'edad': edad,\n",
        "    'dni': dni\n",
        "})\n",
        "\n",
        "print(df.to_string(index=False))"
      ],
      "metadata": {
        "id": "lj0zQr7qEmzj",
        "colab": {
          "base_uri": "https://localhost:8080/"
        },
        "outputId": "5876e81d-a1fb-4ae5-d5ef-4467bfa991a7"
      },
      "execution_count": 33,
      "outputs": [
        {
          "output_type": "stream",
          "name": "stdout",
          "text": [
            " Index           nombre  edad      dni\n",
            "     9     Brown, James    43 30123444\n",
            "     3 Hamkel, Louis V.    29 44555666\n",
            "     7 Baptista, Carlos    28 43120111\n"
          ]
        }
      ]
    },
    {
      "cell_type": "markdown",
      "source": [
        "Reutilice cualquiera de los dataframe hechos anteriormente pero agregue la columna `fecha` con el tipo de dato relacionado a fechas.\n",
        "\n",
        "| _Index_ | **nombre**       | **edad** | **dni**  | **fecha**  |\n",
        "|---------|------------------|----------|----------|------------|\n",
        "| 9       | Brown, James     | 43       | 30123444 | 12/08/1981 |\n",
        "| 3       | Hamkel, Louis V. | 29       | 44555666 | 10/04/1995 |\n",
        "| 7       | Baptista, Carlos | 28       | 43120111 | 28/05/1996 |"
      ],
      "metadata": {
        "id": "oP9dwhSLEnix"
      }
    },
    {
      "cell_type": "code",
      "source": [
        "index = pd.Series([9, 3, 7])\n",
        "nombre = pd.Series(['Brown, James', 'Hamkel, Louis V.', 'Baptista, Carlos'])\n",
        "edad = pd.Series([43, 29, 28])\n",
        "dni = pd.Series([30123444, 44555666, 43120111])\n",
        "\n",
        "df = pd.DataFrame({\n",
        "    'Index': index,\n",
        "    'nombre': nombre,\n",
        "    'edad': edad,\n",
        "    'dni': dni\n",
        "})\n",
        "\n",
        "fechas = ['2024-11-01', '2024-10-15', '2024-09-10']\n",
        "df['fecha'] = pd.to_datetime(fechas)\n",
        "\n",
        "print(df.to_string(index=False))"
      ],
      "metadata": {
        "id": "lt6ZjIgAFEpT",
        "colab": {
          "base_uri": "https://localhost:8080/"
        },
        "outputId": "f68a31d0-c93a-48f5-e9e0-cafd665c7c99"
      },
      "execution_count": 34,
      "outputs": [
        {
          "output_type": "stream",
          "name": "stdout",
          "text": [
            " Index           nombre  edad      dni      fecha\n",
            "     9     Brown, James    43 30123444 2024-11-01\n",
            "     3 Hamkel, Louis V.    29 44555666 2024-10-15\n",
            "     7 Baptista, Carlos    28 43120111 2024-09-10\n"
          ]
        }
      ]
    },
    {
      "cell_type": "markdown",
      "source": [
        "Ejecute la siguiente celda. Se va a descargar un archivo llamado `u.user`."
      ],
      "metadata": {
        "id": "X6Y5smKMEn6w"
      }
    },
    {
      "cell_type": "code",
      "source": [
        "!wget https://raw.githubusercontent.com/justmarkham/DAT8/master/data/u.user"
      ],
      "metadata": {
        "id": "3v7G1jWs7rDg",
        "colab": {
          "base_uri": "https://localhost:8080/"
        },
        "outputId": "b0d488a6-9dc2-4948-a97e-a4759121e4de"
      },
      "execution_count": 35,
      "outputs": [
        {
          "output_type": "stream",
          "name": "stdout",
          "text": [
            "--2024-11-16 00:37:44--  https://raw.githubusercontent.com/justmarkham/DAT8/master/data/u.user\n",
            "Resolving raw.githubusercontent.com (raw.githubusercontent.com)... 185.199.108.133, 185.199.110.133, 185.199.109.133, ...\n",
            "Connecting to raw.githubusercontent.com (raw.githubusercontent.com)|185.199.108.133|:443... connected.\n",
            "HTTP request sent, awaiting response... 200 OK\n",
            "Length: 22667 (22K) [text/plain]\n",
            "Saving to: ‘u.user’\n",
            "\n",
            "u.user              100%[===================>]  22.14K  --.-KB/s    in 0.001s  \n",
            "\n",
            "2024-11-16 00:37:44 (19.3 MB/s) - ‘u.user’ saved [22667/22667]\n",
            "\n"
          ]
        }
      ]
    },
    {
      "cell_type": "markdown",
      "source": [
        "Lea el archivo con pandas y muestre las primeras 5 filas."
      ],
      "metadata": {
        "id": "-qRRF8T_72wD"
      }
    },
    {
      "cell_type": "code",
      "source": [
        "df = pd.read_csv('u.user', sep='|')\n",
        "print(df.head())"
      ],
      "metadata": {
        "id": "HlPu1a1sEohQ",
        "colab": {
          "base_uri": "https://localhost:8080/"
        },
        "outputId": "601d6105-7930-40da-bdca-6fa5377c07b0"
      },
      "execution_count": 36,
      "outputs": [
        {
          "output_type": "stream",
          "name": "stdout",
          "text": [
            "   user_id  age gender  occupation zip_code\n",
            "0        1   24      M  technician    85711\n",
            "1        2   53      F       other    94043\n",
            "2        3   23      M      writer    32067\n",
            "3        4   24      M  technician    43537\n",
            "4        5   33      F       other    15213\n"
          ]
        }
      ]
    },
    {
      "cell_type": "markdown",
      "source": [
        "Utilice la columna `user_id` como indice y saque dicha columna del dataframe\n",
        "\n"
      ],
      "metadata": {
        "id": "LsqtwfYc8P6L"
      }
    },
    {
      "cell_type": "code",
      "source": [
        "df = df.set_index('user_id')\n",
        "print(df)"
      ],
      "metadata": {
        "id": "yQs0BtSF8PzU",
        "colab": {
          "base_uri": "https://localhost:8080/"
        },
        "outputId": "d18ab208-0de8-4a5b-a859-e13e499e20ed"
      },
      "execution_count": 37,
      "outputs": [
        {
          "output_type": "stream",
          "name": "stdout",
          "text": [
            "         age gender     occupation zip_code\n",
            "user_id                                    \n",
            "1         24      M     technician    85711\n",
            "2         53      F          other    94043\n",
            "3         23      M         writer    32067\n",
            "4         24      M     technician    43537\n",
            "5         33      F          other    15213\n",
            "...      ...    ...            ...      ...\n",
            "939       26      F        student    33319\n",
            "940       32      M  administrator    02215\n",
            "941       20      M        student    97229\n",
            "942       48      F      librarian    78209\n",
            "943       22      M        student    77841\n",
            "\n",
            "[943 rows x 4 columns]\n"
          ]
        }
      ]
    },
    {
      "cell_type": "markdown",
      "source": [
        "¿Cuantas categorias de trabajos hay?"
      ],
      "metadata": {
        "id": "_5Cld-VT8PsG"
      }
    },
    {
      "cell_type": "code",
      "source": [
        "print(df['occupation'].nunique())"
      ],
      "metadata": {
        "id": "TVeQ-jgZ8PlX",
        "colab": {
          "base_uri": "https://localhost:8080/"
        },
        "outputId": "eed5db4a-7d0d-47f5-f7f0-e4bfe5aacd0c"
      },
      "execution_count": 38,
      "outputs": [
        {
          "output_type": "stream",
          "name": "stdout",
          "text": [
            "21\n"
          ]
        }
      ]
    },
    {
      "cell_type": "markdown",
      "source": [
        " Reporte el porcentaje de personas que tiene cada ocupación."
      ],
      "metadata": {
        "id": "suETYqm28Pba"
      }
    },
    {
      "cell_type": "code",
      "source": [
        "occupation_counts = df['occupation'].value_counts(normalize=True) * 100\n",
        "print(occupation_counts)"
      ],
      "metadata": {
        "id": "mJFiaURH8PS4",
        "colab": {
          "base_uri": "https://localhost:8080/"
        },
        "outputId": "126bcd12-c772-45eb-95d6-1c8936f5c6b9"
      },
      "execution_count": 39,
      "outputs": [
        {
          "output_type": "stream",
          "name": "stdout",
          "text": [
            "occupation\n",
            "student          20.784730\n",
            "other            11.134677\n",
            "educator         10.074231\n",
            "administrator     8.377519\n",
            "engineer          7.104984\n",
            "programmer        6.998940\n",
            "librarian         5.408271\n",
            "writer            4.772004\n",
            "executive         3.393425\n",
            "scientist         3.287381\n",
            "artist            2.969247\n",
            "technician        2.863203\n",
            "marketing         2.757158\n",
            "entertainment     1.908802\n",
            "healthcare        1.696713\n",
            "retired           1.484624\n",
            "lawyer            1.272534\n",
            "salesman          1.272534\n",
            "none              0.954401\n",
            "homemaker         0.742312\n",
            "doctor            0.742312\n",
            "Name: proportion, dtype: float64\n"
          ]
        }
      ]
    },
    {
      "cell_type": "markdown",
      "source": [
        "Reporte el promedio de edad de los estudiantes usando indexeo booleano."
      ],
      "metadata": {
        "id": "OqJ3ufrnEouE"
      }
    },
    {
      "cell_type": "code",
      "source": [
        "avg_age_students = df[df['occupation'] == 'student']['age'].mean()\n",
        "print(avg_age_students)"
      ],
      "metadata": {
        "id": "h9LdQIKZF5Y3",
        "colab": {
          "base_uri": "https://localhost:8080/"
        },
        "outputId": "24486519-9747-4c23-d399-7f96e7707bc5"
      },
      "execution_count": 40,
      "outputs": [
        {
          "output_type": "stream",
          "name": "stdout",
          "text": [
            "22.081632653061224\n"
          ]
        }
      ]
    },
    {
      "cell_type": "markdown",
      "source": [
        "Mostrar, con una sola linea y sin importar `matplotlib`, un histograma de las edades de las personas que son administradores."
      ],
      "metadata": {
        "id": "ECU9-LayF53z"
      }
    },
    {
      "cell_type": "code",
      "source": [
        "print(df[df['occupation'] == 'administrator']['age'].value_counts())"
      ],
      "metadata": {
        "id": "qOimVpu0F4el",
        "colab": {
          "base_uri": "https://localhost:8080/"
        },
        "outputId": "f837186f-fc7d-484d-a2c5-d354f8d3184f"
      },
      "execution_count": 41,
      "outputs": [
        {
          "output_type": "stream",
          "name": "stdout",
          "text": [
            "age\n",
            "30    5\n",
            "51    5\n",
            "38    4\n",
            "35    4\n",
            "48    4\n",
            "28    4\n",
            "49    4\n",
            "33    3\n",
            "22    3\n",
            "25    3\n",
            "47    3\n",
            "43    3\n",
            "54    2\n",
            "42    2\n",
            "37    2\n",
            "36    2\n",
            "23    2\n",
            "59    2\n",
            "31    2\n",
            "32    2\n",
            "29    2\n",
            "26    2\n",
            "27    2\n",
            "50    1\n",
            "53    1\n",
            "70    1\n",
            "44    1\n",
            "57    1\n",
            "41    1\n",
            "62    1\n",
            "21    1\n",
            "34    1\n",
            "39    1\n",
            "45    1\n",
            "46    1\n",
            "Name: count, dtype: int64\n"
          ]
        }
      ]
    },
    {
      "cell_type": "markdown",
      "source": [
        "Reemplace, sin usar `for`, en la columna `gender` `F` por `female` y `M` por `male`."
      ],
      "metadata": {
        "id": "mFzSH9D1QHM4"
      }
    },
    {
      "cell_type": "code",
      "source": [
        "df['gender'] = df['gender'].replace({'F': 'female', 'M': 'male'})\n",
        "print(df)"
      ],
      "metadata": {
        "id": "SZg2_4AJQHhr",
        "colab": {
          "base_uri": "https://localhost:8080/"
        },
        "outputId": "ae556808-6b81-431e-e4ad-9128470d3195"
      },
      "execution_count": 42,
      "outputs": [
        {
          "output_type": "stream",
          "name": "stdout",
          "text": [
            "         age  gender     occupation zip_code\n",
            "user_id                                     \n",
            "1         24    male     technician    85711\n",
            "2         53  female          other    94043\n",
            "3         23    male         writer    32067\n",
            "4         24    male     technician    43537\n",
            "5         33  female          other    15213\n",
            "...      ...     ...            ...      ...\n",
            "939       26  female        student    33319\n",
            "940       32    male  administrator    02215\n",
            "941       20    male        student    97229\n",
            "942       48  female      librarian    78209\n",
            "943       22    male        student    77841\n",
            "\n",
            "[943 rows x 4 columns]\n"
          ]
        }
      ]
    },
    {
      "cell_type": "markdown",
      "source": [
        "# Yahoo! Finance"
      ],
      "metadata": {
        "id": "x6s9aanXAp4G"
      }
    },
    {
      "cell_type": "markdown",
      "source": [
        "Vamos a analizar acciones. La siguiente linea accede a Yahoo Finance y devuelve un DataFrame con los valores de la acción cada dia desde el 1980."
      ],
      "metadata": {
        "id": "qqBxTaafArYH"
      }
    },
    {
      "cell_type": "code",
      "source": [
        "import yfinance as yf\n",
        "dataframe = yf.download('AAPL', start=\"1980-01-01\", end=\"2030-01-01\")"
      ],
      "metadata": {
        "id": "HWJ0fZbfApy6",
        "colab": {
          "base_uri": "https://localhost:8080/"
        },
        "outputId": "99f6fec5-53b9-4597-bb15-10286a28f910"
      },
      "execution_count": 43,
      "outputs": [
        {
          "output_type": "stream",
          "name": "stderr",
          "text": [
            "\r[*********************100%***********************]  1 of 1 completed\n"
          ]
        }
      ]
    },
    {
      "cell_type": "markdown",
      "source": [
        "¿Cual es el registro mas viejo? Imprimirlo."
      ],
      "metadata": {
        "id": "ikpnKqnPApuG"
      }
    },
    {
      "cell_type": "code",
      "source": [
        "print(dataframe.head(1))"
      ],
      "metadata": {
        "id": "e56tZ607Appx",
        "colab": {
          "base_uri": "https://localhost:8080/"
        },
        "outputId": "24ea6fbc-b4fb-42c7-f9ba-8a338c5fbb46"
      },
      "execution_count": 44,
      "outputs": [
        {
          "output_type": "stream",
          "name": "stdout",
          "text": [
            "Price                     Adj Close     Close      High       Low      Open  \\\n",
            "Ticker                         AAPL      AAPL      AAPL      AAPL      AAPL   \n",
            "Date                                                                          \n",
            "1980-12-12 00:00:00+00:00  0.098834  0.128348  0.128906  0.128348  0.128348   \n",
            "\n",
            "Price                         Volume  \n",
            "Ticker                          AAPL  \n",
            "Date                                  \n",
            "1980-12-12 00:00:00+00:00  469033600  \n"
          ]
        }
      ]
    },
    {
      "cell_type": "markdown",
      "source": [
        "Cree la columna `Average` tal que\n",
        "\n",
        "$$Average =  \\frac{High-Low}{2}$$\n",
        "\n",
        "y muestre con un histograma dicha columna."
      ],
      "metadata": {
        "id": "EHHhUvUtApk0"
      }
    },
    {
      "cell_type": "code",
      "source": [
        "dataframe['Average'] = (dataframe['High'] - dataframe['Low']) / 2\n",
        "dataframe['Average'].hist()"
      ],
      "metadata": {
        "id": "-b9g66axApgL",
        "colab": {
          "base_uri": "https://localhost:8080/",
          "height": 447
        },
        "outputId": "b301a9e2-c56b-41b2-e6c5-8b532bae34c1"
      },
      "execution_count": 45,
      "outputs": [
        {
          "output_type": "execute_result",
          "data": {
            "text/plain": [
              "<Axes: >"
            ]
          },
          "metadata": {},
          "execution_count": 45
        },
        {
          "output_type": "display_data",
          "data": {
            "text/plain": [
              "<Figure size 640x480 with 1 Axes>"
            ],
            "image/png": "[encoded data removed]"
          },
          "metadata": {}
        }
      ]
    },
    {
      "cell_type": "markdown",
      "source": [
        "Con `matplotlib`, muestre como `Average` fue evolucionando *al final de cada año*."
      ],
      "metadata": {
        "id": "yeZWGXexApbb"
      }
    },
    {
      "cell_type": "code",
      "source": [
        "import matplotlib.pyplot as plt\n",
        "\n",
        "yearly_average = dataframe.groupby(dataframe.index.year)['Average'].last()\n",
        "\n",
        "plt.plot(yearly_average.index, yearly_average.values)\n",
        "plt.xlabel('Año')\n",
        "plt.ylabel('Average')\n",
        "plt.title('Evolución de Average al final de cada año')\n",
        "plt.show()\n"
      ],
      "metadata": {
        "id": "oeSb_UegApVZ",
        "colab": {
          "base_uri": "https://localhost:8080/",
          "height": 472
        },
        "outputId": "a8454bff-0aec-4e9b-dc08-ac047af0720a"
      },
      "execution_count": 46,
      "outputs": [
        {
          "output_type": "display_data",
          "data": {
            "text/plain": [
              "<Figure size 640x480 with 1 Axes>"
            ],
            "image/png": "[encoded data removed]"
          },
          "metadata": {}
        }
      ]
    },
    {
      "cell_type": "markdown",
      "source": [
        "Muestre con un gráfico de barras, como el volumen fue cambiando *año a año*."
      ],
      "metadata": {
        "id": "K1UXxoawApPD"
      }
    },
    {
      "cell_type": "code",
      "source": [
        "yearly_volume = dataframe.groupby(dataframe.index.year)['Volume'].sum()\n",
        "yearly_volume.index = pd.to_numeric(yearly_volume.index, errors='coerce')\n",
        "yearly_volume.plot(kind='bar')\n",
        "plt.xlabel('Año')\n",
        "plt.ylabel('Volumen')\n",
        "plt.title('Volumen año a año')\n",
        "plt.show()"
      ],
      "metadata": {
        "id": "4OyausU5ApGJ",
        "colab": {
          "base_uri": "https://localhost:8080/",
          "height": 493
        },
        "outputId": "a4a56da5-7aa6-4ccf-b63d-92c16b293fac"
      },
      "execution_count": 47,
      "outputs": [
        {
          "output_type": "display_data",
          "data": {
            "text/plain": [
              "<Figure size 640x480 with 1 Axes>"
            ],
            "image/png": "[encoded data removed]"
          },
          "metadata": {}
        }
      ]
    },
    {
      "cell_type": "markdown",
      "source": [
        "# Cancelaciones y Delays de vuelos del 2015"
      ],
      "metadata": {
        "id": "uf4NRwyMCKbg"
      }
    },
    {
      "cell_type": "markdown",
      "source": [
        "Creese una cuenta en Kaggle e importe los archivos del dataset del siguiente link: https://www.kaggle.com/datasets/usdot/flight-delays. Cree los dataframes `airlines`, `airports`, y `flights` apartir de esos archivos."
      ],
      "metadata": {
        "id": "RoYldCmDCKWJ"
      }
    },
    {
      "cell_type": "code",
      "source": [
        "import pandas as pd\n",
        "\n",
        "airlines_path = \"airlines.csv\"\n",
        "airports_path = \"airports.csv\"\n",
        "flights_path = \"flights.csv\"\n",
        "\n",
        "try:\n",
        "    airlines = pd.read_csv(airlines_path)\n",
        "    airports = pd.read_csv(airports_path)\n",
        "    flights = pd.read_csv(flights_path)\n",
        "\n",
        "    print(\"Airlines DataFrame:\")\n",
        "    print(airlines.head(), \"\\n\")\n",
        "\n",
        "    print(\"Airports DataFrame:\")\n",
        "    print(airports.head(), \"\\n\")\n",
        "\n",
        "    print(\"Flights DataFrame:\")\n",
        "    print(flights.head(), \"\\n\")\n",
        "\n",
        "except FileNotFoundError as e:\n",
        "    print(f\"Error: {e}. Verifica que los archivos CSV estén en la ruta especificada.\")"
      ],
      "metadata": {
        "id": "pRwfZBNKEFwo",
        "colab": {
          "base_uri": "https://localhost:8080/"
        },
        "outputId": "4361af03-b036-4984-a071-30dd7e0866dc"
      },
      "execution_count": 49,
      "outputs": [
        {
          "output_type": "stream",
          "name": "stderr",
          "text": [
            "<ipython-input-49-e37ad8570c99>:10: DtypeWarning: Columns (7,8) have mixed types. Specify dtype option on import or set low_memory=False.\n",
            "  flights = pd.read_csv(flights_path)\n"
          ]
        },
        {
          "output_type": "stream",
          "name": "stdout",
          "text": [
            "Airlines DataFrame:\n",
            "  IATA_CODE                 AIRLINE\n",
            "0        UA   United Air Lines Inc.\n",
            "1        AA  American Airlines Inc.\n",
            "2        US         US Airways Inc.\n",
            "3        F9  Frontier Airlines Inc.\n",
            "4        B6         JetBlue Airways \n",
            "\n",
            "Airports DataFrame:\n",
            "  IATA_CODE                              AIRPORT         CITY STATE COUNTRY  \\\n",
            "0       ABE  Lehigh Valley International Airport    Allentown    PA     USA   \n",
            "1       ABI             Abilene Regional Airport      Abilene    TX     USA   \n",
            "2       ABQ    Albuquerque International Sunport  Albuquerque    NM     USA   \n",
            "3       ABR            Aberdeen Regional Airport     Aberdeen    SD     USA   \n",
            "4       ABY   Southwest Georgia Regional Airport       Albany    GA     USA   \n",
            "\n",
            "   LATITUDE  LONGITUDE  \n",
            "0  40.65236  -75.44040  \n",
            "1  32.41132  -99.68190  \n",
            "2  35.04022 -106.60919  \n",
            "3  45.44906  -98.42183  \n",
            "4  31.53552  -84.19447   \n",
            "\n",
            "Flights DataFrame:\n",
            "   YEAR  MONTH  DAY  DAY_OF_WEEK AIRLINE  FLIGHT_NUMBER TAIL_NUMBER  \\\n",
            "0  2015      1    1            4      AS             98      N407AS   \n",
            "1  2015      1    1            4      AA           2336      N3KUAA   \n",
            "2  2015      1    1            4      US            840      N171US   \n",
            "3  2015      1    1            4      AA            258      N3HYAA   \n",
            "4  2015      1    1            4      AS            135      N527AS   \n",
            "\n",
            "  ORIGIN_AIRPORT DESTINATION_AIRPORT  SCHEDULED_DEPARTURE  ...  ARRIVAL_TIME  \\\n",
            "0            ANC                 SEA                    5  ...         408.0   \n",
            "1            LAX                 PBI                   10  ...         741.0   \n",
            "2            SFO                 CLT                   20  ...         811.0   \n",
            "3            LAX                 MIA                   20  ...         756.0   \n",
            "4            SEA                 ANC                   25  ...         259.0   \n",
            "\n",
            "   ARRIVAL_DELAY  DIVERTED  CANCELLED  CANCELLATION_REASON  AIR_SYSTEM_DELAY  \\\n",
            "0          -22.0         0          0                  NaN               NaN   \n",
            "1           -9.0         0          0                  NaN               NaN   \n",
            "2            5.0         0          0                  NaN               NaN   \n",
            "3           -9.0         0          0                  NaN               NaN   \n",
            "4          -21.0         0          0                  NaN               NaN   \n",
            "\n",
            "   SECURITY_DELAY  AIRLINE_DELAY  LATE_AIRCRAFT_DELAY  WEATHER_DELAY  \n",
            "0             NaN            NaN                  NaN            NaN  \n",
            "1             NaN            NaN                  NaN            NaN  \n",
            "2             NaN            NaN                  NaN            NaN  \n",
            "3             NaN            NaN                  NaN            NaN  \n",
            "4             NaN            NaN                  NaN            NaN  \n",
            "\n",
            "[5 rows x 31 columns] \n",
            "\n"
          ]
        }
      ]
    },
    {
      "cell_type": "markdown",
      "source": [
        "Combine (*join*) las tablas `airlines`, `airports`, y `flights` en una sola tabla."
      ],
      "metadata": {
        "id": "PjDZHuvKCKNp"
      }
    },
    {
      "cell_type": "code",
      "source": [
        "combined_df = pd.merge(flights, airlines, left_on='AIRLINE', right_on='IATA_CODE', how='left')\n",
        "combined_df = combined_df.drop('IATA_CODE', axis=1)\n",
        "\n",
        "combined_df = pd.merge(combined_df, airports, left_on='ORIGIN_AIRPORT', right_on='IATA_CODE', how='left', suffixes=('_flight', '_origin'))\n",
        "\n",
        "combined_df = pd.merge(combined_df, airports, left_on='DESTINATION_AIRPORT', right_on='IATA_CODE', how='left', suffixes=('_origin', '_destination'))\n",
        "\n",
        "print(combined_df.info())\n",
        "print(combined_df.head())"
      ],
      "metadata": {
        "id": "fSpwaXWzCKJ9",
        "colab": {
          "base_uri": "https://localhost:8080/"
        },
        "outputId": "82d63267-62dd-408b-c137-31f56adea1e8"
      },
      "execution_count": 50,
      "outputs": [
        {
          "output_type": "stream",
          "name": "stdout",
          "text": [
            "<class 'pandas.core.frame.DataFrame'>\n",
            "RangeIndex: 5819079 entries, 0 to 5819078\n",
            "Data columns (total 46 columns):\n",
            " #   Column                 Dtype  \n",
            "---  ------                 -----  \n",
            " 0   YEAR                   int64  \n",
            " 1   MONTH                  int64  \n",
            " 2   DAY                    int64  \n",
            " 3   DAY_OF_WEEK            int64  \n",
            " 4   AIRLINE_x              object \n",
            " 5   FLIGHT_NUMBER          int64  \n",
            " 6   TAIL_NUMBER            object \n",
            " 7   ORIGIN_AIRPORT         object \n",
            " 8   DESTINATION_AIRPORT    object \n",
            " 9   SCHEDULED_DEPARTURE    int64  \n",
            " 10  DEPARTURE_TIME         float64\n",
            " 11  DEPARTURE_DELAY        float64\n",
            " 12  TAXI_OUT               float64\n",
            " 13  WHEELS_OFF             float64\n",
            " 14  SCHEDULED_TIME         float64\n",
            " 15  ELAPSED_TIME           float64\n",
            " 16  AIR_TIME               float64\n",
            " 17  DISTANCE               int64  \n",
            " 18  WHEELS_ON              float64\n",
            " 19  TAXI_IN                float64\n",
            " 20  SCHEDULED_ARRIVAL      int64  \n",
            " 21  ARRIVAL_TIME           float64\n",
            " 22  ARRIVAL_DELAY          float64\n",
            " 23  DIVERTED               int64  \n",
            " 24  CANCELLED              int64  \n",
            " 25  CANCELLATION_REASON    object \n",
            " 26  AIR_SYSTEM_DELAY       float64\n",
            " 27  SECURITY_DELAY         float64\n",
            " 28  AIRLINE_DELAY          float64\n",
            " 29  LATE_AIRCRAFT_DELAY    float64\n",
            " 30  WEATHER_DELAY          float64\n",
            " 31  AIRLINE_y              object \n",
            " 32  IATA_CODE_origin       object \n",
            " 33  AIRPORT_origin         object \n",
            " 34  CITY_origin            object \n",
            " 35  STATE_origin           object \n",
            " 36  COUNTRY_origin         object \n",
            " 37  LATITUDE_origin        float64\n",
            " 38  LONGITUDE_origin       float64\n",
            " 39  IATA_CODE_destination  object \n",
            " 40  AIRPORT_destination    object \n",
            " 41  CITY_destination       object \n",
            " 42  STATE_destination      object \n",
            " 43  COUNTRY_destination    object \n",
            " 44  LATITUDE_destination   float64\n",
            " 45  LONGITUDE_destination  float64\n",
            "dtypes: float64(20), int64(10), object(16)\n",
            "memory usage: 2.0+ GB\n",
            "None\n",
            "   YEAR  MONTH  DAY  DAY_OF_WEEK AIRLINE_x  FLIGHT_NUMBER TAIL_NUMBER  \\\n",
            "0  2015      1    1            4        AS             98      N407AS   \n",
            "1  2015      1    1            4        AA           2336      N3KUAA   \n",
            "2  2015      1    1            4        US            840      N171US   \n",
            "3  2015      1    1            4        AA            258      N3HYAA   \n",
            "4  2015      1    1            4        AS            135      N527AS   \n",
            "\n",
            "  ORIGIN_AIRPORT DESTINATION_AIRPORT  SCHEDULED_DEPARTURE  ...  \\\n",
            "0            ANC                 SEA                    5  ...   \n",
            "1            LAX                 PBI                   10  ...   \n",
            "2            SFO                 CLT                   20  ...   \n",
            "3            LAX                 MIA                   20  ...   \n",
            "4            SEA                 ANC                   25  ...   \n",
            "\n",
            "   COUNTRY_origin  LATITUDE_origin  LONGITUDE_origin  IATA_CODE_destination  \\\n",
            "0             USA         61.17432        -149.99619                    SEA   \n",
            "1             USA         33.94254        -118.40807                    PBI   \n",
            "2             USA         37.61900        -122.37484                    CLT   \n",
            "3             USA         33.94254        -118.40807                    MIA   \n",
            "4             USA         47.44898        -122.30931                    ANC   \n",
            "\n",
            "                           AIRPORT_destination  CITY_destination  \\\n",
            "0         Seattle-Tacoma International Airport           Seattle   \n",
            "1             Palm Beach International Airport   West Palm Beach   \n",
            "2      Charlotte Douglas International Airport         Charlotte   \n",
            "3                  Miami International Airport             Miami   \n",
            "4  Ted Stevens Anchorage International Airport         Anchorage   \n",
            "\n",
            "   STATE_destination  COUNTRY_destination  LATITUDE_destination  \\\n",
            "0                 WA                  USA              47.44898   \n",
            "1                 FL                  USA              26.68316   \n",
            "2                 NC                  USA              35.21401   \n",
            "3                 FL                  USA              25.79325   \n",
            "4                 AK                  USA              61.17432   \n",
            "\n",
            "   LONGITUDE_destination  \n",
            "0             -122.30931  \n",
            "1              -80.09559  \n",
            "2              -80.94313  \n",
            "3              -80.29056  \n",
            "4             -149.99619  \n",
            "\n",
            "[5 rows x 46 columns]\n"
          ]
        }
      ]
    },
    {
      "cell_type": "markdown",
      "source": [
        "¿Cuantos vuelos fueron al aeropuerto JFK?"
      ],
      "metadata": {
        "id": "qnx03j1hFm54"
      }
    },
    {
      "cell_type": "code",
      "source": [
        "jfk_flights = combined_df[combined_df['DESTINATION_AIRPORT'] == 'JFK']\n",
        "print(len(jfk_flights))"
      ],
      "metadata": {
        "id": "lmluYuizFnKD",
        "colab": {
          "base_uri": "https://localhost:8080/"
        },
        "outputId": "e0b72d13-5dd4-462e-a8aa-5b630ab436db"
      },
      "execution_count": 51,
      "outputs": [
        {
          "output_type": "stream",
          "name": "stdout",
          "text": [
            "93809\n"
          ]
        }
      ]
    },
    {
      "cell_type": "markdown",
      "source": [
        "¿Cuantos vuelos hizo la aerolinea AA?"
      ],
      "metadata": {
        "id": "dhyTy9BhFnXx"
      }
    },
    {
      "cell_type": "code",
      "source": [
        "aa_flights = flights[flights['AIRLINE'] == 'AA']\n",
        "num_aa_flights = aa_flights.shape[0]\n",
        "\n",
        "print(f\"La aerolínea AA realizó {num_aa_flights} vuelos.\")"
      ],
      "metadata": {
        "id": "IupGmRDpFnsu",
        "colab": {
          "base_uri": "https://localhost:8080/"
        },
        "outputId": "9cbbd0c2-f840-4b80-d9db-bba2fe26aa01"
      },
      "execution_count": 52,
      "outputs": [
        {
          "output_type": "stream",
          "name": "stdout",
          "text": [
            "La aerolínea AA realizó 725984 vuelos.\n"
          ]
        }
      ]
    },
    {
      "cell_type": "markdown",
      "source": [
        "¿Que aerolineas (las primeras 5) tuvo la menor cantidad de vuelos con atrasos? Imprimirlas."
      ],
      "metadata": {
        "id": "kMP-JH_VEsMb"
      }
    },
    {
      "cell_type": "code",
      "source": [
        "delayed_flights_by_airline = flights[flights['DEPARTURE_DELAY'] > 0].groupby('AIRLINE')['DEPARTURE_DELAY'].count()\n",
        "sorted_airlines = delayed_flights_by_airline.sort_values()\n",
        "\n",
        "print(sorted_airlines.head(5))"
      ],
      "metadata": {
        "id": "4-h0JTPuEsZk",
        "colab": {
          "base_uri": "https://localhost:8080/"
        },
        "outputId": "f287768c-3cf8-4121-92f5-ed180601f077"
      },
      "execution_count": 53,
      "outputs": [
        {
          "output_type": "stream",
          "name": "stdout",
          "text": [
            "AIRLINE\n",
            "HA    20146\n",
            "VX    23379\n",
            "F9    34893\n",
            "AS    43566\n",
            "NK    52089\n",
            "Name: DEPARTURE_DELAY, dtype: int64\n"
          ]
        }
      ]
    },
    {
      "cell_type": "markdown",
      "source": [
        "¿Que aerolineas (las primeras 5) tuvo la mayor cantidad de vuelos con atrasos? Imprimirlas."
      ],
      "metadata": {
        "id": "AD51bj4AEs3L"
      }
    },
    {
      "cell_type": "code",
      "source": [
        "delayed_flights_by_airline = flights[flights['DEPARTURE_DELAY'] > 0].groupby('AIRLINE')['DEPARTURE_DELAY'].count()\n",
        "sorted_airlines = delayed_flights_by_airline.sort_values(ascending=False)\n",
        "\n",
        "print(sorted_airlines.head(5))"
      ],
      "metadata": {
        "id": "MiB6jHQ2Erqx",
        "colab": {
          "base_uri": "https://localhost:8080/"
        },
        "outputId": "fec1dd96-7a78-4a9f-d4d9-d2e376ad3b8c"
      },
      "execution_count": 54,
      "outputs": [
        {
          "output_type": "stream",
          "name": "stdout",
          "text": [
            "AIRLINE\n",
            "WN    566807\n",
            "DL    282463\n",
            "UA    256550\n",
            "AA    245904\n",
            "OO    171572\n",
            "Name: DEPARTURE_DELAY, dtype: int64\n"
          ]
        }
      ]
    },
    {
      "cell_type": "markdown",
      "source": [
        "Haga un resumen de las razones por la cual los vuelos se atrasan."
      ],
      "metadata": {
        "id": "DWQedGQvFYGP"
      }
    },
    {
      "cell_type": "code",
      "source": [
        "delay_summary = flights['CANCELLATION_REASON'].value_counts()\n",
        "\n",
        "print(\"Razones de los atrasos y su frecuencia:\")\n",
        "print(delay_summary)"
      ],
      "metadata": {
        "id": "AtPN0dv5FX3d",
        "colab": {
          "base_uri": "https://localhost:8080/"
        },
        "outputId": "ec2a7f1e-a2be-49de-d6ac-876cb8f9dd9c"
      },
      "execution_count": 55,
      "outputs": [
        {
          "output_type": "stream",
          "name": "stdout",
          "text": [
            "Razones de los atrasos y su frecuencia:\n",
            "CANCELLATION_REASON\n",
            "B    48851\n",
            "A    25262\n",
            "C    15749\n",
            "D       22\n",
            "Name: count, dtype: int64\n"
          ]
        }
      ]
    },
    {
      "cell_type": "markdown",
      "source": [
        "Compruebe si hay columnas con celdas vacias."
      ],
      "metadata": {
        "id": "rMpR4FWdCKF2"
      }
    },
    {
      "cell_type": "code",
      "source": [
        "print(flights.isnull().sum())"
      ],
      "metadata": {
        "id": "S_SzBL9ZCKCV",
        "colab": {
          "base_uri": "https://localhost:8080/"
        },
        "outputId": "17a35921-a886-492e-c74e-9f47f7493236"
      },
      "execution_count": 56,
      "outputs": [
        {
          "output_type": "stream",
          "name": "stdout",
          "text": [
            "YEAR                         0\n",
            "MONTH                        0\n",
            "DAY                          0\n",
            "DAY_OF_WEEK                  0\n",
            "AIRLINE                      0\n",
            "FLIGHT_NUMBER                0\n",
            "TAIL_NUMBER              14721\n",
            "ORIGIN_AIRPORT               0\n",
            "DESTINATION_AIRPORT          0\n",
            "SCHEDULED_DEPARTURE          0\n",
            "DEPARTURE_TIME           86153\n",
            "DEPARTURE_DELAY          86153\n",
            "TAXI_OUT                 89047\n",
            "WHEELS_OFF               89047\n",
            "SCHEDULED_TIME               6\n",
            "ELAPSED_TIME            105071\n",
            "AIR_TIME                105071\n",
            "DISTANCE                     0\n",
            "WHEELS_ON                92513\n",
            "TAXI_IN                  92513\n",
            "SCHEDULED_ARRIVAL            0\n",
            "ARRIVAL_TIME             92513\n",
            "ARRIVAL_DELAY           105071\n",
            "DIVERTED                     0\n",
            "CANCELLED                    0\n",
            "CANCELLATION_REASON    5729195\n",
            "AIR_SYSTEM_DELAY       4755640\n",
            "SECURITY_DELAY         4755640\n",
            "AIRLINE_DELAY          4755640\n",
            "LATE_AIRCRAFT_DELAY    4755640\n",
            "WEATHER_DELAY          4755640\n",
            "dtype: int64\n"
          ]
        }
      ]
    },
    {
      "cell_type": "markdown",
      "source": [
        "Haga una imputación de datos COMPLETA del dataframe. Pueden escojer cualquier estrategia y no necesariamente todas las columnas deben seguir la misma estrategia."
      ],
      "metadata": {
        "id": "1IH7wd3PCJfQ"
      }
    },
    {
      "cell_type": "code",
      "source": [
        "flights['DEPARTURE_DELAY'] = flights['DEPARTURE_DELAY'].fillna(flights['DEPARTURE_DELAY'].mean())\n",
        "flights['ARRIVAL_DELAY'] = flights['ARRIVAL_DELAY'].fillna(flights['ARRIVAL_DELAY'].median())\n",
        "\n",
        "for col in ['AIR_SYSTEM_DELAY', 'SECURITY_DELAY', 'AIRLINE_DELAY', 'LATE_AIRCRAFT_DELAY', 'WEATHER_DELAY']:\n",
        "    flights[col] = flights[col].fillna(0)\n",
        "\n",
        "flights['CANCELLATION_REASON'] = flights['CANCELLATION_REASON'].fillna('Unknown')\n",
        "\n",
        "print(flights.isnull().sum())"
      ],
      "metadata": {
        "id": "PHmO-jb8CJaF",
        "colab": {
          "base_uri": "https://localhost:8080/"
        },
        "outputId": "eec66d71-7564-4213-d243-528dd0149bc6"
      },
      "execution_count": 57,
      "outputs": [
        {
          "output_type": "stream",
          "name": "stdout",
          "text": [
            "YEAR                        0\n",
            "MONTH                       0\n",
            "DAY                         0\n",
            "DAY_OF_WEEK                 0\n",
            "AIRLINE                     0\n",
            "FLIGHT_NUMBER               0\n",
            "TAIL_NUMBER             14721\n",
            "ORIGIN_AIRPORT              0\n",
            "DESTINATION_AIRPORT         0\n",
            "SCHEDULED_DEPARTURE         0\n",
            "DEPARTURE_TIME          86153\n",
            "DEPARTURE_DELAY             0\n",
            "TAXI_OUT                89047\n",
            "WHEELS_OFF              89047\n",
            "SCHEDULED_TIME              6\n",
            "ELAPSED_TIME           105071\n",
            "AIR_TIME               105071\n",
            "DISTANCE                    0\n",
            "WHEELS_ON               92513\n",
            "TAXI_IN                 92513\n",
            "SCHEDULED_ARRIVAL           0\n",
            "ARRIVAL_TIME            92513\n",
            "ARRIVAL_DELAY               0\n",
            "DIVERTED                    0\n",
            "CANCELLED                   0\n",
            "CANCELLATION_REASON         0\n",
            "AIR_SYSTEM_DELAY            0\n",
            "SECURITY_DELAY              0\n",
            "AIRLINE_DELAY               0\n",
            "LATE_AIRCRAFT_DELAY         0\n",
            "WEATHER_DELAY               0\n",
            "dtype: int64\n"
          ]
        }
      ]
    }
  ]
}